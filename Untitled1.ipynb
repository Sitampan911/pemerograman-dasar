{
  "nbformat": 4,
  "nbformat_minor": 0,
  "metadata": {
    "colab": {
      "provenance": [],
      "authorship_tag": "ABX9TyNu07W4cKYmIkCrezoaaxh3",
      "include_colab_link": true
    },
    "kernelspec": {
      "name": "python3",
      "display_name": "Python 3"
    },
    "language_info": {
      "name": "python"
    }
  },
  "cells": [
    {
      "cell_type": "markdown",
      "metadata": {
        "id": "view-in-github",
        "colab_type": "text"
      },
      "source": [
        "<a href=\"https://colab.research.google.com/github/Sitampan911/pemerograman-dasar/blob/main/Untitled1.ipynb\" target=\"_parent\"><img src=\"https://colab.research.google.com/assets/colab-badge.svg\" alt=\"Open In Colab\"/></a>"
      ]
    },
    {
      "cell_type": "code",
      "execution_count": null,
      "metadata": {
        "colab": {
          "base_uri": "https://localhost:8080/"
        },
        "id": "adkcIRFCRR03",
        "outputId": "b427113f-d499-456f-8852-a4749efdd8c4"
      },
      "outputs": [
        {
          "output_type": "stream",
          "name": "stdout",
          "text": [
            "=== Program Kasir Sederhana ===\n",
            "Masukkan jumlah item: 7\n",
            "Masukkan harga item ke-1: Rp 7000\n",
            "Masukkan harga item ke-2: Rp 5000\n",
            "Masukkan harga item ke-3: Rp 8000\n",
            "Masukkan harga item ke-4: Rp 11500\n",
            "Masukkan harga item ke-5: Rp 10000\n",
            "Masukkan harga item ke-6: Rp 12000\n",
            "Masukkan harga item ke-7: Rp 9000\n",
            "Apakah pelanggan member? (y/n): n\n",
            "\n",
            "===== Struk Belanja =====\n",
            "Subtotal             : Rp 62,500\n",
            "Diskon               : Rp 0\n",
            "Harga setelah diskon : Rp 62,500\n",
            "PPN (11%)            : Rp 6,875\n",
            "Total Bayar          : Rp 69,375\n"
          ]
        }
      ],
      "source": [
        "def hitung_total_belanja(harga_items, is_member):\n",
        "\n",
        "    subtotal = sum(harga_items)\n",
        "\n",
        "    if is_member and subtotal > 100_000:\n",
        "        diskon = subtotal * 0.15\n",
        "    else:\n",
        "        diskon = 0\n",
        "\n",
        "    harga_setelah_diskon = subtotal - diskon\n",
        "\n",
        "    ppn = harga_setelah_diskon * 0.11\n",
        "\n",
        "    total = harga_setelah_diskon + ppn\n",
        "\n",
        "    return subtotal, diskon, harga_setelah_diskon, ppn, total\n",
        "\n",
        "def main():\n",
        "    print(\"=== Program Kasir Sederhana ===\")\n",
        "    n = int(input(\"Masukkan jumlah item: \"))\n",
        "\n",
        "    harga_items = []\n",
        "    for i in range(n):\n",
        "        harga = float(input(f\"Masukkan harga item ke-{i+1}: Rp \"))\n",
        "        harga_items.append(harga)\n",
        "\n",
        "    member_input = input(\"Apakah pelanggan member? (y/n): \").lower()\n",
        "    is_member = (member_input == \"y\")\n",
        "\n",
        "    subtotal, diskon, harga_setelah_diskon, ppn, total = hitung_total_belanja(harga_items, is_member)\n",
        "\n",
        "    print(\"\\n===== Struk Belanja =====\")\n",
        "    print(f\"Subtotal             : Rp {subtotal:,.0f}\")\n",
        "    print(f\"Diskon               : Rp {diskon:,.0f}\")\n",
        "    print(f\"Harga setelah diskon : Rp {harga_setelah_diskon:,.0f}\")\n",
        "    print(f\"PPN (11%)            : Rp {ppn:,.0f}\")\n",
        "    print(f\"Total Bayar          : Rp {total:,.0f}\")\n",
        "\n",
        "if __name__ == \"__main__\":\n",
        "    main()"
      ]
    }
  ]
}