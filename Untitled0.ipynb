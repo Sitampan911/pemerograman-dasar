{
  "nbformat": 4,
  "nbformat_minor": 0,
  "metadata": {
    "colab": {
      "provenance": [],
      "authorship_tag": "ABX9TyP9rm8T2+pj2bEh1KAK8yhh",
      "include_colab_link": true
    },
    "kernelspec": {
      "name": "python3",
      "display_name": "Python 3"
    },
    "language_info": {
      "name": "python"
    }
  },
  "cells": [
    {
      "cell_type": "markdown",
      "metadata": {
        "id": "view-in-github",
        "colab_type": "text"
      },
      "source": [
        "<a href=\"https://colab.research.google.com/github/Sitampan911/pemerograman-dasar/blob/main/Untitled0.ipynb\" target=\"_parent\"><img src=\"https://colab.research.google.com/assets/colab-badge.svg\" alt=\"Open In Colab\"/></a>"
      ]
    },
    {
      "cell_type": "code",
      "execution_count": null,
      "metadata": {
        "colab": {
          "base_uri": "https://localhost:8080/"
        },
        "id": "lgFyVKfufJI7",
        "outputId": "96bee360-c4eb-451d-80a0-dcac8b557e68"
      },
      "outputs": [
        {
          "output_type": "stream",
          "name": "stdout",
          "text": [
            "Masukkan tahun (mis. 2024): 2020\n",
            "2020 adalah tahun kabisat.\n"
          ]
        }
      ],
      "source": [
        "def is_leap(year: int) -> bool:\n",
        "    \"\"\"\n",
        "    Mengembalikan True jika 'year' adalah tahun kabisat, False jika bukan.\n",
        "    Logika: habis dibagi 400 OR (habis dibagi 4 AND tidak habis dibagi 100).\n",
        "    \"\"\"\n",
        "    return (year % 400 == 0) or ((year % 4 == 0) and (year % 100 != 0))\n",
        "\n",
        "def read_year_from_user() -> int:\n",
        "    \"\"\"Menerima input tahun dari pengguna dan mengembalikan sebagai int.\"\"\"\n",
        "    while True:\n",
        "        try:\n",
        "            s = input(\"Masukkan tahun (mis. 2024): \").strip()\n",
        "            year = int(s)\n",
        "            return year\n",
        "        except ValueError:\n",
        "            print(\"Input tidak valid. Masukkan angka bulat untuk tahun.\")\n",
        "\n",
        "def main():\n",
        "    year = read_year_from_user()\n",
        "    if is_leap(year):\n",
        "        print(f\"{year} adalah tahun kabisat.\")\n",
        "    else:\n",
        "        print(f\"{year} bukan tahun kabisat.\")\n",
        "\n",
        "if __name__ == \"__main__\":\n",
        "    main()"
      ]
    }
  ]
}